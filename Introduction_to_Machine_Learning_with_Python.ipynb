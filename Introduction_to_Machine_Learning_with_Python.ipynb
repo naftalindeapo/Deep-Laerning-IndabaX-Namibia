{
  "nbformat": 4,
  "nbformat_minor": 0,
  "metadata": {
    "colab": {
      "provenance": [],
      "authorship_tag": "ABX9TyNMF4hO+hdOWfrw8qFn3LO6",
      "include_colab_link": true
    },
    "kernelspec": {
      "name": "python3",
      "display_name": "Python 3"
    },
    "language_info": {
      "name": "python"
    }
  },
  "cells": [
    {
      "cell_type": "markdown",
      "metadata": {
        "id": "view-in-github",
        "colab_type": "text"
      },
      "source": [
        "<a href=\"https://colab.research.google.com/github/naftalindeapo/Deep-Learning-IndabaX-Namibia/blob/main/Introduction_to_Machine_Learning_with_Python.ipynb\" target=\"_parent\"><img src=\"https://colab.research.google.com/assets/colab-badge.svg\" alt=\"Open In Colab\"/></a>"
      ]
    },
    {
      "cell_type": "markdown",
      "source": [
        "## Workshop 1: Introduction to Machine Learning with Python by Naftali N Indongo <br>\n",
        "<img src = 'https://drive.google.com/uc?id=1mdTbDpWxNyPlLeXZqBiR38R1dzMo5Du7'>\n",
        "\n",
        "<a href=\"https://colab.research.google.com/github/deep-learning-indaba/indaba-pracs-2023/blob/main/practicals/ML_for_Bio_Indaba_Practical_2023.ipynb\" target=\"_parent\"><img src=\"https://colab.research.google.com/assets/colab-badge.svg\" alt=\"Open In Colab\"/></a>\n",
        "\n",
        "### Date: 23 July 2024\n",
        "### Time: 14:25"
      ],
      "metadata": {
        "id": "gY-48plgfGQs"
      }
    },
    {
      "cell_type": "code",
      "source": [],
      "metadata": {
        "id": "_hLXNBrOfO55"
      },
      "execution_count": null,
      "outputs": []
    }
  ]
}